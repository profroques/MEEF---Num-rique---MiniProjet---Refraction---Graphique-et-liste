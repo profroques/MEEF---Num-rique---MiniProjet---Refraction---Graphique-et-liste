{
 "cells": [
  {
   "cell_type": "markdown",
   "id": "045117fa",
   "metadata": {},
   "source": [
    "<div class=\"licence\">\n",
    "<b><span>Licence CC BY-NC-ND </span>\n",
    "    <span>Sarah Roques - Académie de Lyon</span></b>\n",
    "<br><span><img src=\"diapo illustrations\\logo Licence CC BY-NC-ND.png\" alt=\"drawing\" width=\"100\"style=\"float:left\"/></span>\n",
    "</div>"
   ]
  },
  {
   "cell_type": "markdown",
   "id": "25a71d4f",
   "metadata": {},
   "source": [
    "<h3>NUMÉRIQUE - Mini-Projets</h3>"
   ]
  },
  {
   "cell_type": "markdown",
   "id": "97b7e22f",
   "metadata": {},
   "source": [
    "    \n",
    "<div class=\"pull-right\">\n",
    "<span><img src=\"diapo illustrations\\gestion-de-projet.png\"  width = 200/>\n",
    "    </span></div>\n",
    "\n",
    "<br>\n",
    "<h1 style=\"color:#337AB7\">  MINI-PROJET :<br>\n",
    " Graphique - Loi de la réfraction</h1>\n",
    "<h2 style=\"color:#337AB7\">  avec usage de listes</h2>"
   ]
  },
  {
   "cell_type": "markdown",
   "id": "3de9d0cf",
   "metadata": {},
   "source": [
    "Pour répondre aux consignes (accessibles depuis ce <a href=\"https://drive.google.com/drive/folders/1V4MzB5FVKh12eiaBE_DYiLnFHa6OCmEb?usp=sharing\" target='_blank'>lien</a>, je vous propose deux exemples de scripts qui seront décomposés en sous-partie pour rendre la compréhension plus fluide. Il est possible qu'il existe d'autres rédactions. Les deux scripts sont accessibles dans LEUR GLOBALITÉ à la fin de cette section."
   ]
  },
  {
   "cell_type": "markdown",
   "id": "2e35e744",
   "metadata": {},
   "source": [
    "<div class=\"panel panel-default\">\n",
    "    <div class=\"panel-heading\"><h2>UN PREMIER SCRIPT ASSEZ ACCESSIBLE</h2></div>\n",
    "    <div class=\"panel-body\">\n",
    "\n",
    "Ce script propose notamment l'usage d'une variable \"intermédiaire\" (nommée tempo) pour faciliter l'explicitation des différentes étapes. Dans le deuxième script proposé, vous verrez qu'il est possible de condenser certaines lignes de. code.\n",
    "</div>\n",
    "</div>"
   ]
  },
  {
   "cell_type": "markdown",
   "id": "d8f814ef",
   "metadata": {},
   "source": [
    "### IMPORTATION DES LIBRAIRIES"
   ]
  },
  {
   "cell_type": "code",
   "execution_count": 1,
   "id": "f096cd2f",
   "metadata": {},
   "outputs": [],
   "source": [
    "# IMPORTATION DES LIBRAIRIES\n",
    "\n",
    "import matplotlib.pyplot as plt # importe le module pyplot de matplotlib et lui alloue l'alias plt\n",
    "from math import * #importe toutes les fonctions de la bibliothèque math\n"
   ]
  },
  {
   "cell_type": "markdown",
   "id": "f7162a97",
   "metadata": {},
   "source": [
    "### SAISIE DES DONNÉES ET LEUR AFFICHAGE"
   ]
  },
  {
   "cell_type": "code",
   "execution_count": null,
   "id": "e857d687",
   "metadata": {},
   "outputs": [],
   "source": [
    "# SAISIE DES DONNÉES\n",
    "\n",
    "indice1=1.0 # indice du premier milieu traversé par la lumière\n",
    "indice2=1.5 # indice du deuxième milieu traversé par la lumière\n",
    "i=[0,10,20,30,40,50,60,70,80] # la liste i contient des valeurs d'angles d'incidence\n",
    "r=[0,7,13,20,25,30,35,39.5,40.5] # la liste r contient les valeurs correspondantes d'angles de réfraction\n",
    "\n",
    "print(\"Les valeurs des angles d'incidence i sont : \")  #affiche le texte entre \"\"\n",
    "print(i) # affiche les valeurs de la liste i\n",
    "\n",
    "print() # permet de sauter une ligne\n",
    "print(\"Les valeurs des angles de réfraction mesurés sont : \")  #affiche le texte entre \"\"\n",
    "print(r) #affiche les valeurs de la liste r"
   ]
  },
  {
   "cell_type": "markdown",
   "id": "d90b6768",
   "metadata": {},
   "source": [
    "### CRÉTION DES LISTES UTILES ET AFFICHAGE DE LEURS VALEURS"
   ]
  },
  {
   "cell_type": "code",
   "execution_count": null,
   "id": "f8dca016",
   "metadata": {
    "scrolled": true
   },
   "outputs": [],
   "source": [
    "# CRÉATION DES LISTES UTILES ET AFFICHAGE DE LEURS VALEURS\n",
    "\n",
    "sinus_i=[] # création d'une liste vide pour le sinus de i\n",
    "sinus_r=[] # création d'une liste vide pour le sinus de r à partir des valeurs expérimentales\n",
    "sinus_rt=[] # création d'une liste vide pour le sinus de r à partir de la loi de la réfraction\n",
    "\n",
    "\n",
    "for compteur in range(len(i)): # pour la variable appelée \"compteur\" allant de 1 à 9 \n",
    "    tempo = radians(i[compteur]) # conversion en radian de la valeur d'indice compteur dans la liste\n",
    "    tempo = sin(tempo) # on écrase la variable précédente et lui attribuant son sinus\n",
    "    tempo = round(tempo,2) # on écrase la variable précédente et lui attribuant son arrondi à 2 décimales\n",
    "    sinus_i.append(tempo) #ajouter à la liste sinus_i la valeur correspondant à la valeur de tempo\n",
    "\n",
    "print() # permet de sauter une ligne\n",
    "print(\"Les valeurs de la liste sin i sont : \") #affiche le texte entre \"\"\n",
    "print(sinus_i) #affiche le contenu de la liste sinus_i\n",
    "\n",
    "\n",
    "for compteur in range (len(r)): # pour la variable appelée \"compteur\" allant de 1 à 9\n",
    "    tempo=radians(r[compteur])\n",
    "    tempo=sin(tempo)\n",
    "    tempo=round(tempo,2)\n",
    "    sinus_r.append(tempo) #ajoute à la liste sinus_r la valeur du sinus (de la valeur compteur en rad)\n",
    "\n",
    "print() # permet de sauter une ligne\n",
    "print(\"Les valeurs de la liste sin r sont : \") #affiche le texte entre \"\"\n",
    "print(sinus_r) #affiche le contenu de la liste sinus_r\n",
    "\n",
    "\n",
    "for compteur in sinus_i:  # pour la variable appelée \"compteur\" parcourtant les valeurs de la liste sin_i\n",
    "    sinus_rt.append((compteur*indice1/indice2)) #ajoute à la liste sinus_rt la valeur prise par le compteur*1,0/1,5\n",
    "\n",
    "print() # permet de sauter une ligne\n",
    "print(\"Les valeurs de la liste des sin r calculées à partir de la loi de la réfraction sont : \") #affiche le texte entre ''\n",
    "print(sinus_rt) #affiche les valeurs des sinus de r calculés par la loi de la réfraction"
   ]
  },
  {
   "cell_type": "markdown",
   "id": "44083cd7",
   "metadata": {},
   "source": [
    "### REPRÉSATION DES DONNÉES"
   ]
  },
  {
   "cell_type": "code",
   "execution_count": null,
   "id": "c3fdd663",
   "metadata": {},
   "outputs": [],
   "source": [
    "# REPRÉSENTATION DES DONNÉES\n",
    "\n",
    "plt.title('Etude de la réfraction') # Titre au graphique\n",
    "plt.xlabel(\"sin r\") # Titre à l'axe des abscisses\n",
    "plt.ylabel(\"sin i\") # Titre à l'axe des ordonnées\n",
    "\n",
    "\n",
    "# affichage de points (scatter) pour représenter les valeurs issues de mesures\n",
    "plt.scatter(sinus_r,sinus_i,c='b',marker='+',s=120, label='sin i = f(sin(r)) via mesures expérimentales')\n",
    "\n",
    "# affiche d'une ligne (plot) de représentation des valeurs calculées selon la loi de la réfraction\n",
    "plt.plot(sinus_rt,sinus_i, c='r', label='sin i = f(sin(r)) via loi de la réfraction')\n",
    "\n",
    "\n",
    "plt.legend(loc=2) #affiche les labels indiqués pour chaque courbe - légende en haut à gauche = loc = 2\n",
    "ax=plt.gca() # appel le graphique courant pour ..\n",
    "ax.set_axisbelow(True) #... changer un de ses attributs à True pour afficher la grille sous les points\n",
    "plt.grid(True) # affiche la grille de données\n",
    "plt.show() # affiche le graphe\n",
    "    "
   ]
  },
  {
   "cell_type": "markdown",
   "id": "a485125c",
   "metadata": {},
   "source": [
    "<div class=\"panel panel-default\">\n",
    "    <div class=\"panel-heading\"><h2>UN DEUXIÈME SCRIPT PLUS CONDENSÉ</h2></div>\n",
    "    <div class=\"panel-body\">\n",
    "\n",
    "Ce script propose notamment l'usage d'une variable \"intermédiaire\" (nommée tempo) pour faciliter l'explicitation des différentes étapes. Dans le deuxième script proposé, vous verrez qu'il est possible de condenser certaines lignes de. code.\n",
    "</div>\n",
    "</div>"
   ]
  },
  {
   "cell_type": "markdown",
   "id": "b630539b",
   "metadata": {},
   "source": [
    "### IMPORTATION DES LIBRAIRIES"
   ]
  },
  {
   "cell_type": "code",
   "execution_count": null,
   "id": "b7d2d13f",
   "metadata": {
    "scrolled": true
   },
   "outputs": [],
   "source": [
    "# IMPORTATION DES LIBRAIRIES\n",
    "\n",
    "import matplotlib.pyplot as plt # importe le module pyplot de matplotlib et lui alloue l'alias plt\n",
    "from math import * #importe toutes les fonctions de la bibliothèque math"
   ]
  },
  {
   "cell_type": "markdown",
   "id": "7e254f20",
   "metadata": {},
   "source": [
    "### SAISIE DES DONNÉES ET LEUR AFFICHAGE"
   ]
  },
  {
   "cell_type": "code",
   "execution_count": null,
   "id": "c88a89fa",
   "metadata": {},
   "outputs": [],
   "source": [
    "# SAISIE DES DONNÉES ET LEUR AFFICHAGE\n",
    "\n",
    "indice1=1.0 # indice du premier milieu traversé par la lumière\n",
    "indice2=1.5 # indice du deuxième milieu traversé par la lumière\n",
    "i=[0,10,20,30,40,50,60,70,80] # la liste i contient des valeurs d'angles d'incidence\n",
    "r=[0,7,13,20,25,30,35,39.5,40.5] # la liste r contient les valeurs correspondantes d'angles de réfraction\n",
    "\n",
    "print(\"Les valeurs des angles d'incidence i sont : \")  #affiche le texte entre \"\"\n",
    "print(i) # affiche les valeurs de la liste i\n",
    "\n",
    "print() # permet de sauter une ligne\n",
    "print(\"Les valeurs des angles de réfraction mesurés sont : \")  #affiche le texte entre \"\"\n",
    "print(r) #affiche les valeurs de la liste r"
   ]
  },
  {
   "cell_type": "markdown",
   "id": "189c9aa4",
   "metadata": {},
   "source": [
    "### CRÉATION DES LISTES UTILES ET AFFICHAGE DE LEURS VALEURS\n",
    "#### Dans cette partie, il y a des différences avec le premier script proposé"
   ]
  },
  {
   "cell_type": "code",
   "execution_count": null,
   "id": "bcd6b7bb",
   "metadata": {
    "scrolled": true
   },
   "outputs": [],
   "source": [
    "# CRÉATION DES LISTES UTILES ET AFFICHAGE DE LEURS VALEURS\n",
    "\n",
    "sinus_i=[] # création d'une liste vide pour le sinus de i\n",
    "sinus_r=[] # création d'une liste vide pour le sinus de r à partir des valeurs expérimentales\n",
    "sinus_rt=[] # création d'une liste vide pour le sinus de r à partir de la loi de la réfraction\n",
    "\n",
    "\n",
    "for compteur in i: # pour la variable appelée \"compteur\" parcourtant les valeurs de la liste i\n",
    "    sinus_i.append(round(sin(radians(compteur)),2)) #ajouter à la liste sinus_i la valeur arrondie du sinus (de la valeur compteur en rad)\n",
    "\n",
    "print() # permet de sauter une ligne\n",
    "print(\"Les valeurs de la liste sin i sont : \") #affiche le texte entre \"\"\n",
    "print(sinus_i) #affiche le contenu de la liste sinus_i\n",
    "\n",
    "\n",
    "for compteur in r: # pour la variable appelée \"compteur\" parcourtant les valeurs de la liste i\n",
    "    sinus_r.append(round(sin(radians(compteur)),2)) #ajoute à la liste sinus_r la valeur arrondie du sinus (de la valeur compteur en rad)\n",
    "\n",
    "print() # permet de sauter une ligne\n",
    "print(\"Les valeurs de la liste sin r sont : \") #affiche le texte entre \"\"\n",
    "print(sinus_r) #affiche le contenu de la liste sinus_r\n",
    "\n",
    "\n",
    "for compteur in sinus_i:  # pour la variable appelée \"compteur\" parcourtant les valeurs de la liste sin_i\n",
    "    sinus_rt.append((compteur*indice1/indice2)) #ajoute à la liste sinus_rt la valeur arrondie prise par le compteur*1,0/1,5\n",
    "\n",
    "print() # permet de sauter une ligne\n",
    "print(\"Les valeurs de la liste des sin r calculées à partir de la loi de la réfraction sont : \") #affiche le texte entre ''\n",
    "print(sinus_rt) #affiche les valeurs des sinus de r calculés par la loi de la réfraction\n",
    "    "
   ]
  },
  {
   "cell_type": "markdown",
   "id": "161156b9",
   "metadata": {},
   "source": [
    "### REPRÉSENTATION DES DONNÉES"
   ]
  },
  {
   "cell_type": "code",
   "execution_count": null,
   "id": "5db9044a",
   "metadata": {
    "scrolled": true
   },
   "outputs": [],
   "source": [
    "# REPRÉSENTATION DES DONNÉES\n",
    "\n",
    "plt.title('Etude de la réfraction') # Titre au graphique\n",
    "plt.xlabel(\"sin r\") # Titre à l'axe des abscisses\n",
    "plt.ylabel(\"sin i\") # Titre à l'axe des ordonnées\n",
    "\n",
    "\n",
    "# affichage de points (scatter) pour représenter les valeurs issues de mesures\n",
    "plt.scatter(sinus_r,sinus_i,c='b',marker='+',s=120, label='sin i = f(sin(r)) via mesures expérimentales')\n",
    "\n",
    "# affiche d'une ligne (plot) de représentation des valeurs calculées selon la loi de la réfraction\n",
    "plt.plot(sinus_rt,sinus_i, c='r', label='sin i = f(sin(r)) via loi de la réfraction')\n",
    "\n",
    "plt.legend(loc=2) # affiche les labels indiqués pour chaque courbe - légende en haut à gauche = loc = 2\n",
    "ax=plt.gca() # appel le graphique courant pour ..\n",
    "ax.set_axisbelow(True) #... changer un de ses attributs à True pour afficher la grille sous les points\n",
    "plt.grid(True) # affiche la grille de données\n",
    "plt.show() # affiche le graphe"
   ]
  },
  {
   "cell_type": "markdown",
   "id": "c891b64f",
   "metadata": {},
   "source": [
    "<div class=\"panel panel-default\">\n",
    "    <div class=\"panel-heading\"><h2>PREMIER SCRIPT DANS SA GLOABLITÉ</h2></div>\n",
    "    <div class=\"panel-body\">\n",
    "\n",
    "Tout est dit dans le titre.\n",
    "</div>\n",
    "</div>"
   ]
  },
  {
   "cell_type": "code",
   "execution_count": null,
   "id": "b32e9ea5",
   "metadata": {
    "scrolled": true
   },
   "outputs": [],
   "source": [
    "# IMPORTATION DES LIBRAIRIES\n",
    "\n",
    "import matplotlib.pyplot as plt # importe le module pyplot de matplotlib et lui alloue l'alias plt\n",
    "from math import * #importe toutes les fonctions de la bibliothèque math\n",
    "\n",
    "# SAISIE DES DONNÉES\n",
    "\n",
    "indice1=1.0 # indice du premier milieu traversé par la lumière\n",
    "indice2=1.5 # indice du deuxième milieu traversé par la lumière\n",
    "i=[0,10,20,30,40,50,60,70,80] # la liste i contient des valeurs d'angles d'incidence\n",
    "r=[0,7,13,20,25,30,35,39.5,40.5] # la liste r contient les valeurs correspondantes d'angles de réfraction\n",
    "print()\n",
    "print()\n",
    "print(\"Les valeurs des angles d'incidence i sont : \")  #affiche le texte entre \"\"\n",
    "print(i) # affiche les valeurs de la liste i\n",
    "\n",
    "print() # permet de sauter une ligne\n",
    "print(\"Les valeurs des angles de réfraction mesurés sont : \")  #affiche le texte entre \"\"\n",
    "print(r) #affiche les valeurs de la liste r\n",
    "\n",
    "# CRÉATION DES LISTES UTILES ET AFFICHAGE DE LEURS VALEURS\n",
    "\n",
    "sinus_i=[] # création d'une liste vide pour le sinus de i\n",
    "sinus_r=[] # création d'une liste vide pour le sinus de r à partir des valeurs expérimentales\n",
    "sinus_rt=[] # création d'une liste vide pour le sinus de r à partir de la loi de la réfraction\n",
    "\n",
    "\n",
    "for compteur in range(len(i)): # pour la variable appelée \"compteur\" allant de 1 à 9 \n",
    "    tempo = radians(i[compteur]) # conversion en radian de la valeur d'indice compteur dans la liste\n",
    "    tempo = sin(tempo) # on écrase la variable précédente et lui attribuant son sinus\n",
    "    tempo = round(tempo,2) # on écrase la variable précédente et lui attribuant son arrondi à 2 décimales\n",
    "    sinus_i.append(tempo) #ajouter à la liste sinus_i la valeur correspondant à la valeur de tempo\n",
    "\n",
    "print() # permet de sauter une ligne\n",
    "print(\"Les valeurs de la liste sin i sont : \") #affiche le texte entre \"\"\n",
    "print(sinus_i) #affiche le contenu de la liste sinus_i\n",
    "\n",
    "\n",
    "for compteur in range (len(r)): # pour la variable appelée \"compteur\" allant de 1 à 9\n",
    "    tempo=radians(r[compteur])\n",
    "    tempo=sin(tempo)\n",
    "    tempo=round(tempo,2)\n",
    "    sinus_r.append(tempo) #ajoute à la liste sinus_r la valeur du sinus (de la valeur compteur en rad)\n",
    "\n",
    "print() # permet de sauter une ligne\n",
    "print(\"Les valeurs de la liste sin r sont : \") #affiche le texte entre \"\"\n",
    "print(sinus_r) #affiche le contenu de la liste sinus_r\n",
    "\n",
    "\n",
    "for compteur in sinus_i:  # pour la variable appelée \"compteur\" parcourtant les valeurs de la liste sin_i\n",
    "    sinus_rt.append((compteur*indice1/indice2)) #ajoute à la liste sinus_rt la valeur prise par le compteur*1,0/1,5\n",
    "\n",
    "print() # permet de sauter une ligne\n",
    "print(\"Les valeurs de la liste des sin r calculées à partir de la loi de la réfraction sont : \") #affiche le texte entre ''\n",
    "print(sinus_rt) #affiche les valeurs des sinus de r calculés par la loi de la réfraction\n",
    "\n",
    "# REPRÉSENTATION DES DONNÉES\n",
    "\n",
    "plt.title('Etude de la réfraction') # Titre au graphique\n",
    "plt.xlabel(\"sin r\") # Titre à l'axe des abscisses\n",
    "plt.ylabel(\"sin i\") # Titre à l'axe des ordonnées\n",
    "\n",
    "\n",
    "# affichage de points (scatter) pour représenter les valeurs issues de mesures\n",
    "plt.scatter(sinus_r,sinus_i,c='b',marker='+',s=120, label='sin i = f(sin(r)) via mesures expérimentales')\n",
    "\n",
    "# affiche d'une ligne (plot) de représentation des valeurs calculées selon la loi de la réfraction\n",
    "plt.plot(sinus_rt,sinus_i, c='r', label='sin i = f(sin(r)) via loi de la réfraction')\n",
    "\n",
    "plt.legend(loc=2) # affiche les labels indiqués pour chaque courbe - légende en haut à gauche = loc = 2\n",
    "ax=plt.gca() # appel le graphique courant pour ..\n",
    "ax.set_axisbelow(True) #... changer un de ses attributs à True pour afficher la grille sous les points\n",
    "plt.grid(True) # affiche la grille de données\n",
    "plt.show() # affiche le graphe"
   ]
  },
  {
   "cell_type": "markdown",
   "id": "546c1a5e",
   "metadata": {},
   "source": [
    "<div class=\"panel panel-default\">\n",
    "    <div class=\"panel-heading\"><h2>DEUXIÈME SCRIPT DANS SA GLOABLITÉ</h2></div>\n",
    "    <div class=\"panel-body\">\n",
    "\n",
    "Tout est dit dans le titre.\n",
    "</div>\n",
    "</div>"
   ]
  },
  {
   "cell_type": "code",
   "execution_count": null,
   "id": "d7192992",
   "metadata": {
    "scrolled": true
   },
   "outputs": [],
   "source": [
    "# IMPORTATION DES LIBRAIRIES\n",
    "\n",
    "import matplotlib.pyplot as plt # importe le module pyplot de matplotlib et lui alloue l'alias plt\n",
    "from math import * #importe toutes les fonctions de la bibliothèque math\n",
    "\n",
    "\n",
    "# SAISIE DES DONNÉES\n",
    "\n",
    "indice1=1.0 # indice du premier milieu traversé par la lumière\n",
    "indice2=1.5 # indice du deuxième milieu traversé par la lumière\n",
    "i=[0,10,20,30,40,50,60,70,80] # la liste i contient des valeurs d'angles d'incidence\n",
    "r=[0,7,13,20,25,30,35,39.5,40.5] # la liste r contient les valeurs correspondantes d'angles de réfraction\n",
    "\n",
    "print(\"Les valeurs des angles d'incidence i sont : \")  #affiche le texte entre \"\"\n",
    "print(i) # affiche les valeurs de la liste i\n",
    "\n",
    "print() # permet de sauter une ligne\n",
    "print(\"Les valeurs des angles de réfraction mesurés sont : \")  #affiche le texte entre \"\"\n",
    "print(r) #affiche les valeurs de la liste r\n",
    "\n",
    "\n",
    "# CRÉATION DES LISTES UTILES\n",
    "\n",
    "sinus_i=[] # création d'une liste vide pour le sinus de i\n",
    "sinus_r=[] # création d'une liste vide pour le sinus de r à partir des valeurs expérimentales\n",
    "sinus_rt=[] # création d'une liste vide pour le sinus de r à partir de la loi de la réfraction\n",
    "\n",
    "\n",
    "for compteur in i: # pour la variable appelée \"compteur\" parcourtant les valeurs de la liste i\n",
    "    sinus_i.append(round(sin(radians(compteur)),2)) #ajouter à la liste sinus_i la valeur arrondie du sinus (de la valeur compteur en rad)\n",
    "\n",
    "print() # permet de sauter une ligne\n",
    "print(\"Les valeurs de la liste sin i sont : \") #affiche le texte entre \"\"\n",
    "print(sinus_i) #affiche le contenu de la liste sinus_i\n",
    "\n",
    "\n",
    "for compteur in r: # pour la variable appelée \"compteur\" parcourtant les valeurs de la liste i\n",
    "    sinus_r.append(round(sin(radians(compteur)),2)) #ajoute à la liste sinus_r la valeur arrondie du sinus (de la valeur compteur en rad)\n",
    "\n",
    "print() # permet de sauter une ligne\n",
    "print(\"Les valeurs de la liste sin r sont : \") #affiche le texte entre \"\"\n",
    "print(sinus_r) #affiche le contenu de la liste sinus_r\n",
    "\n",
    "\n",
    "for compteur in sinus_i:  # pour la variable appelée \"compteur\" parcourtant les valeurs de la liste sin_i\n",
    "    sinus_rt.append((compteur*indice1/indice2)) #ajoute à la liste sinus_rt la valeur arrondie prise par le compteur*1,0/1,5\n",
    "\n",
    "print() # permet de sauter une ligne\n",
    "print(\"Les valeurs de la liste des sin r calculées à partir de la loi de la réfraction sont : \") #affiche le texte entre ''\n",
    "print(sinus_rt) #affiche les valeurs des sinus de r calculés par la loi de la réfraction\n",
    "\n",
    "\n",
    "# REPRÉSENTATION DES DONNÉES\n",
    "\n",
    "plt.title('Etude de la réfraction') # Titre au graphique\n",
    "plt.xlabel(\"sin r\") # Titre à l'axe des abscisses\n",
    "plt.ylabel(\"sin i\") # Titre à l'axe des ordonnées\n",
    "\n",
    "\n",
    "# affichage de points (scatter) pour représenter les valeurs issues de mesures\n",
    "plt.scatter(sinus_r,sinus_i,c='b',marker='+',s=120, label='sin i = f(sin(r)) via mesures expérimentales')\n",
    "\n",
    "# affiche d'une ligne (plot) de représentation des valeurs calculées selon la loi de la réfraction\n",
    "plt.plot(sinus_rt,sinus_i, c='r', label='sin i = f(sin(r)) via loi de la réfraction')\n",
    "\n",
    "plt.legend(loc=2) # affiche les labels indiqués pour chaque courbe - légende en haut à gauche = loc = 2\n",
    "ax=plt.gca() # appel le graphique courant pour ..\n",
    "ax.set_axisbelow(True) #... changer un de ses attributs à True pour afficher la grille sous les points\n",
    "plt.grid(True) # affiche la grille de données\n",
    "plt.show() # affiche le graphe\n",
    "    "
   ]
  }
 ],
 "metadata": {
  "kernelspec": {
   "display_name": "Python 3",
   "language": "python",
   "name": "python3"
  },
  "language_info": {
   "codemirror_mode": {
    "name": "ipython",
    "version": 3
   },
   "file_extension": ".py",
   "mimetype": "text/x-python",
   "name": "python",
   "nbconvert_exporter": "python",
   "pygments_lexer": "ipython3",
   "version": "3.8.8"
  }
 },
 "nbformat": 4,
 "nbformat_minor": 5
}
